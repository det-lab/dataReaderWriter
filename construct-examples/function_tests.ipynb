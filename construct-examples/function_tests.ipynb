{
 "cells": [
  {
   "cell_type": "markdown",
   "metadata": {},
   "source": [
    "## Run the following cell first."
   ]
  },
  {
   "cell_type": "code",
   "execution_count": 1,
   "metadata": {},
   "outputs": [
    {
     "name": "stdout",
     "output_type": "stream",
     "text": [
      "Import successful\n",
      "Loaded cdms id file.\n"
     ]
    },
    {
     "name": "stdout",
     "output_type": "stream",
     "text": [
      "Creating trace data file...\n",
      "Collecting trace data...\n"
     ]
    }
   ],
   "source": [
    "import sys\n",
    "sys.path.append('/home/afisher@novateur.com/dataReaderWriter/construct-examples/scdms_soudan/')\n",
    "import csv_metadata\n",
    "import os\n",
    "import time\n",
    "print('Import successful')\n",
    "\n",
    "cdms_ids_file_path = '/data3/afisher/cdmslite-run3-cuts-output/ID_CDMSliteR3.csv'\n",
    "cdms_ids = csv_metadata.load_id_file(cdms_ids_file_path)\n",
    "\n",
    "print(f'Loaded cdms id file.')"
   ]
  },
  {
   "cell_type": "code",
   "execution_count": 2,
   "metadata": {},
   "outputs": [
    {
     "name": "stdout",
     "output_type": "stream",
     "text": [
      "Looking for only TRUE events...\n"
     ]
    },
    {
     "name": "stdout",
     "output_type": "stream",
     "text": [
      "True at: [0, 1, 2, 3, 4, 5, 6, 7, 8, 9, 10, 11, 12, 13, 14, 15, 16, 17, 18, 19, 20, 21, 22, 23, 24, 25, 26, 27, 28, 29, 30, 31, 32, 33, 34, 35, 36, 37, 38, 39, 40, 41, 42, 43, 44, 45, 46, 47, 48, 49]\n",
      "True at: [1, 2, 6, 17, 20, 21, 29, 35, 45, 49]\n",
      "Shared true indices:\n",
      "[1, 2, 35, 6, 45, 17, 49, 20, 21, 29]\n",
      "Looking for only FALSE events...\n",
      "False at: Index([ 0,  1,  2,  3,  4,  5,  6,  7,  8,  9, 10, 11, 12, 13, 14, 15, 16, 17,\n",
      "       18, 19, 20, 21, 22, 23, 24, 25, 26, 27, 28, 29, 30, 31, 32, 33, 34, 35,\n",
      "       36, 37, 38, 39, 40, 41, 42, 43, 44, 45, 46, 47, 48, 49],\n",
      "      dtype='int64')\n",
      "False at: Index([9, 18, 21, 27, 29, 35, 41, 45], dtype='int64')\n",
      "Shared false indices:\n",
      "[35, 9, 41, 45, 18, 21, 27, 29]\n",
      "Overlapping indices:\n",
      "[21, 29, 35, 45]\n",
      "11502121819 has 4 events.\n",
      "Testing fetch_events_from_dict:\n",
      "Function finished after 10.32 minutes.\n"
     ]
    }
   ],
   "source": [
    "# Cell to test find_overlapping_bool\n",
    "\n",
    "cut_data_csv_folder = '/data3/afisher/cdmslite-run3-cuts-output/'\n",
    "\n",
    "true_list = [\n",
    "    'out_bg-restricted_Random_CDMSliteR3.csv',                     # 0-49 ALL TRUE \n",
    "    'out_bg-restricted_IsSpot_CDMSliteR3.csv',                     # 1, 2, 6, 17, 20, 21, 29, 35, 45, 49 TRUE\n",
    "    ]\n",
    "\n",
    "false_list = [\n",
    "    'out_bg-restricted_IsBadSeries_CDMSliteR3.csv',                # 0-49 ALL FALSE\n",
    "    'cut_output_bg-restricted_GoodPhononStartTime_CDMSliteR3.csv', # 9, 18, 21, 27, 29, 35, 41, 45 FALSE\n",
    "    ]\n",
    "\n",
    "# The two lists should overlap on [21, 29, 35, 45]\n",
    "selected_event_dictionary = csv_metadata.find_overlapping_bool(cdms_ids, cut_data_csv_folder, true_list, false_list, is_test=True)\n",
    "\n",
    "# Testing fetch_event_from_dict\n",
    "parsed_hdf5_file_path = \"/home/afisher@novateur.com/dataReaderWriter/NovateurData/01150212_1819_F0001_parsed.hdf5\"\n",
    "trace_output_folder = '/home/afisher@novateur.com/dataReaderWriter/NovateurData/trace_out_folder'\n",
    "cut_output_folder = '/home/afisher@novateur.com/dataReaderWriter/NovateurData/cut_out_folder'\n",
    "os.makedirs(trace_output_folder, exist_ok=True)\n",
    "os.makedirs(cut_output_folder, exist_ok=True)\n",
    "for series_number, events in selected_event_dictionary.items():\n",
    "    print(f'{series_number} has {len(events)} events.')\n",
    "print(f'Testing fetch_events_from_dict:')\n",
    "start_time = time.time()\n",
    "csv_metadata.fetch_events_from_dict(cdms_ids, selected_event_dictionary, parsed_hdf5_file_path, cut_data_csv_folder, trace_output_folder, cut_output_folder)\n",
    "end_time = time.time()\n",
    "print(f'Function finished after {(end_time - start_time)/60:.2f} minutes.')\n"
   ]
  },
  {
   "cell_type": "code",
   "execution_count": 2,
   "metadata": {},
   "outputs": [
    {
     "name": "stdout",
     "output_type": "stream",
     "text": [
      "Creating cut output file\n",
      "Total number of events in this series: 18885. Testing 15.\n",
      "out_bg-restricted_allCutsOld_inclPmult took 0.68 minutes.\n",
      "\n",
      "cut_output_bg-restricted_IsGlitch_chisq_CDMSliteR3 took 0.69 minutes.\n",
      "\n",
      "out_bg-restricted_BadGPStime_CDMSliteR3 took 0.68 minutes.\n",
      "\n",
      "out_bg-restricted_Rad2T_CDMSliteR3 took 0.69 minutes.\n",
      "\n",
      "cut_output_bg-restricted_HighVoltage_CDMSliteR3 took 0.70 minutes.\n",
      "\n",
      "out_bg-restricted_IsBadSeries_CDMSliteR3 took 0.69 minutes.\n",
      "\n",
      "out_bg-restricted_GoodPhononStartTime_CDMSliteR3 took 0.71 minutes.\n",
      "\n",
      "out_bg-restricted_NotLFnoise_NoSalt_CDMSliteR3 took 0.69 minutes.\n",
      "\n",
      "out_bg-restricted_BadTriggerRate_CDMSliteR3 took 0.69 minutes.\n",
      "\n",
      "out_bg-restricted_IsGlitch_chisq_CDMSliteR3 took 0.69 minutes.\n",
      "\n",
      "cut_output_bg-restricted_IsBadSeries_CDMSliteR3 took 0.69 minutes.\n",
      "\n",
      "out_bg-restricted_PmultTight_CDMSliteR3 took 0.68 minutes.\n",
      "\n",
      "out_bg-restricted_NuMI_CDMSliteR3 took 0.68 minutes.\n",
      "\n",
      "cut_output_bg-restricted_BadTriggerRate_CDMSliteR3 took 0.69 minutes.\n",
      "\n",
      "out_bg-restricted_IsSquarePulseOld_NoSalt_CDMSliteR3 took 0.68 minutes.\n",
      "\n",
      "out_bg-restricted_IsLoudCryoPreTime_CDMSliteR3 took 0.70 minutes.\n",
      "\n",
      "cut_output_bg-restricted_IsSquarePulse_NoSalt_CDMSliteR3 took 0.69 minutes.\n",
      "\n",
      "out_bg-restricted_allCuts_inclPmult took 0.68 minutes.\n",
      "\n",
      "out_bg-restricted_PChiSq_CDMSliteR3 took 0.70 minutes.\n",
      "\n",
      "cut_output_bg-restricted_T2Z1Triggered_CDMSliteR3 took 0.70 minutes.\n",
      "\n",
      "cut_output_bg-restricted_NuMI_CDMSliteR3 took 0.70 minutes.\n",
      "\n",
      "cut_output_bg-restricted_NotLFnoise_NoSalt_CDMSliteR3 took 0.69 minutes.\n",
      "\n",
      "cut_output_bg-restricted_Random_CDMSliteR3 took 0.71 minutes.\n",
      "\n",
      "out_bg-restricted_Pstd_CDMSliteR3 took 0.70 minutes.\n",
      "\n",
      "out_bg-restricted_IsBadCryoPreTime_CDMSliteR3 took 0.69 minutes.\n",
      "\n",
      "out_bg-restricted_HighVoltage_CDMSliteR3 took 0.70 minutes.\n",
      "\n",
      "cut_output_bg-restricted_VTStrict_CDMSliteR3 took 0.71 minutes.\n",
      "\n",
      "out_bg-restricted_IsLFnoise_CDMSliteR3 took 0.70 minutes.\n",
      "\n",
      "cut_output_bg-restricted_PmultTight_CDMSliteR3 took 0.71 minutes.\n",
      "\n",
      "out_bg-restricted_LFBDT_NoSalt_CDMSliteR3 took 0.69 minutes.\n",
      "\n",
      "cut_output_bg-restricted_PChiSq_CDMSliteR3 took 0.71 minutes.\n",
      "\n",
      "out_bg-restricted_IsSalt_CDMSliteR3 took 0.69 minutes.\n",
      "\n",
      "cut_output_bg-restricted_QChiSq_CDMSliteR3 took 0.71 minutes.\n",
      "\n",
      "out_bg-restricted_T2Z1Triggered_CDMSliteR3 took 0.71 minutes.\n",
      "\n",
      "cut_output_bg-restricted_Rad2T_CDMSliteR3 took 0.69 minutes.\n",
      "\n",
      "out_bg-restricted_IsLFnoiseBDT_NoSalt_CDMSliteR3 took 0.70 minutes.\n",
      "\n",
      "out_bg-restricted_NotLFnoise_CDMSliteR3 took 0.68 minutes.\n",
      "\n",
      "out_bg-restricted_IsGlitch_trig_CDMSliteR3 took 0.68 minutes.\n",
      "\n",
      "out_bg-restricted_IsSpot_CDMSliteR3 took 0.68 minutes.\n",
      "\n",
      "out_bg-restricted_IsSquarePulse_NoSalt_CDMSliteR3 took 0.68 minutes.\n",
      "\n",
      "out_bg-restricted_GoodRandom_CDMSliteR3 took 0.69 minutes.\n",
      "\n",
      "out_bg-restricted_allCuts_exclPmult took 0.68 minutes.\n",
      "\n",
      "out_bg-restricted_QChiSq_CDMSliteR3 took 0.70 minutes.\n",
      "\n",
      "out_bg-restricted_IsLFnoiseBDT_CDMSliteR3 took 0.70 minutes.\n",
      "\n",
      "out_bg-restricted_VTStrict_CDMSliteR3 took 0.69 minutes.\n",
      "\n",
      "cut_output_bg-restricted_BadGPStime_CDMSliteR3 took 0.70 minutes.\n",
      "\n",
      "out_bg-restricted_Random_CDMSliteR3 took 0.69 minutes.\n",
      "\n",
      "cut_output_bg-restricted_GoodPhononStartTime_CDMSliteR3 took 0.70 minutes.\n",
      "\n",
      "out_bg-restricted_InRunRandom_CDMSliteR3 took 0.69 minutes.\n",
      "\n",
      "cut_output_bg-restricted_IsSquarePulseOld_NoSalt_CDMSliteR3 took 0.69 minutes.\n",
      "\n",
      "out_bg-restricted_IsLFnoisedX2_CDMSliteR3 took 0.68 minutes.\n",
      "\n",
      "out_bg-restricted_IsSquarePulse_CDMSliteR3 took 0.69 minutes.\n",
      "\n",
      "cut_output_bg-restricted_Pstd_CDMSliteR3 took 0.70 minutes.\n",
      "\n",
      "cut_output_bg-restricted_IsGlitch_trig_CDMSliteR3 took 0.69 minutes.\n",
      "\n",
      "out_bg-restricted_allCutsOld_exclPmult took 0.68 minutes.\n",
      "\n",
      "out_bg-restricted_LFBDT_CDMSliteR3 took 0.68 minutes.\n",
      "\n",
      "To get the cut data for every event in this series would take around 872.07 minutes, or around 14.53 hours.\n",
      "Cut output file created.\n",
      "Execution time: 38.81 minutes\n",
      "Creating trace data file...\n"
     ]
    },
    {
     "ename": "BlockingIOError",
     "evalue": "[Errno 11] Unable to synchronously create file (unable to lock file, errno = 11, error message = 'Resource temporarily unavailable')",
     "output_type": "error",
     "traceback": [
      "\u001b[0;31m---------------------------------------------------------------------------\u001b[0m",
      "\u001b[0;31mBlockingIOError\u001b[0m                           Traceback (most recent call last)",
      "Cell \u001b[0;32mIn[2], line 21\u001b[0m\n\u001b[1;32m     18\u001b[0m \u001b[38;5;66;03m#parsed_hdf5_file_path = '/home/afisher@novateur.com/dataReaderWriter/NovateurData/01150212_1819_F0001_parsed.hdf5' #'/data3/afisher/test/parsed_files/01150212_1819_F0001_parsed.hdf5'\u001b[39;00m\n\u001b[1;32m     19\u001b[0m trace_output_file_path \u001b[38;5;241m=\u001b[39m \u001b[38;5;124m'\u001b[39m\u001b[38;5;124m/home/afisher@novateur.com/dataReaderWriter/NovateurData/full_series_trace_test.hdf5\u001b[39m\u001b[38;5;124m'\u001b[39m\n\u001b[0;32m---> 21\u001b[0m \u001b[43mcsv_metadata\u001b[49m\u001b[38;5;241;43m.\u001b[39;49m\u001b[43mget_series_trace_data\u001b[49m\u001b[43m(\u001b[49m\u001b[43mparsed_file_folder\u001b[49m\u001b[43m,\u001b[49m\u001b[43m \u001b[49m\u001b[43mtrace_output_file_path\u001b[49m\u001b[43m,\u001b[49m\u001b[43m \u001b[49m\u001b[43mis_test\u001b[49m\u001b[38;5;241;43m=\u001b[39;49m\u001b[38;5;28;43;01mTrue\u001b[39;49;00m\u001b[43m)\u001b[49m\n\u001b[1;32m     22\u001b[0m end_time \u001b[38;5;241m=\u001b[39m time\u001b[38;5;241m.\u001b[39mtime()\n\u001b[1;32m     23\u001b[0m \u001b[38;5;28mprint\u001b[39m(\u001b[38;5;124mf\u001b[39m\u001b[38;5;124m\"\u001b[39m\u001b[38;5;124mExecution time: \u001b[39m\u001b[38;5;132;01m{\u001b[39;00m(end_time\u001b[38;5;250m \u001b[39m\u001b[38;5;241m-\u001b[39m\u001b[38;5;250m \u001b[39mstart_time)\u001b[38;5;241m/\u001b[39m\u001b[38;5;241m60\u001b[39m\u001b[38;5;132;01m:\u001b[39;00m\u001b[38;5;124m.2f\u001b[39m\u001b[38;5;132;01m}\u001b[39;00m\u001b[38;5;124m minutes\u001b[39m\u001b[38;5;124m\"\u001b[39m)\n",
      "File \u001b[0;32m~/dataReaderWriter/construct-examples/scdms_soudan/csv_metadata.py:144\u001b[0m, in \u001b[0;36mget_series_trace_data\u001b[0;34m(parsed_file_folder, trace_output_file_path, is_test)\u001b[0m\n\u001b[1;32m    139\u001b[0m \u001b[38;5;28;01mdef\u001b[39;00m \u001b[38;5;21mget_series_trace_data\u001b[39m(parsed_file_folder, trace_output_file_path, is_test\u001b[38;5;241m=\u001b[39m\u001b[38;5;28;01mFalse\u001b[39;00m):\n\u001b[1;32m    140\u001b[0m \u001b[38;5;250m    \u001b[39m\u001b[38;5;124;03m\"\"\"\u001b[39;00m\n\u001b[1;32m    141\u001b[0m \u001b[38;5;124;03m    Create a trace output file for all events \u001b[39;00m\n\u001b[1;32m    142\u001b[0m \u001b[38;5;124;03m    available in a folder of parsed hdf5 files.\u001b[39;00m\n\u001b[1;32m    143\u001b[0m \u001b[38;5;124;03m    \"\"\"\u001b[39;00m\n\u001b[0;32m--> 144\u001b[0m     \u001b[38;5;28;01mwith\u001b[39;00m \u001b[43mh5py\u001b[49m\u001b[38;5;241;43m.\u001b[39;49m\u001b[43mFile\u001b[49m\u001b[43m(\u001b[49m\u001b[43mtrace_output_file_path\u001b[49m\u001b[43m,\u001b[49m\u001b[43m \u001b[49m\u001b[38;5;124;43m'\u001b[39;49m\u001b[38;5;124;43mw\u001b[39;49m\u001b[38;5;124;43m'\u001b[39;49m\u001b[43m)\u001b[49m \u001b[38;5;28;01mas\u001b[39;00m trace_out:\n\u001b[1;32m    145\u001b[0m         \u001b[38;5;28;01mif\u001b[39;00m is_test:\n\u001b[1;32m    146\u001b[0m             \u001b[38;5;28mprint\u001b[39m(\u001b[38;5;124mf\u001b[39m\u001b[38;5;124m'\u001b[39m\u001b[38;5;124mCollecting trace data...\u001b[39m\u001b[38;5;124m'\u001b[39m)\n",
      "File \u001b[0;32m~/myenv/lib/python3.10/site-packages/h5py/_hl/files.py:561\u001b[0m, in \u001b[0;36mFile.__init__\u001b[0;34m(self, name, mode, driver, libver, userblock_size, swmr, rdcc_nslots, rdcc_nbytes, rdcc_w0, track_order, fs_strategy, fs_persist, fs_threshold, fs_page_size, page_buf_size, min_meta_keep, min_raw_keep, locking, alignment_threshold, alignment_interval, meta_block_size, **kwds)\u001b[0m\n\u001b[1;32m    552\u001b[0m     fapl \u001b[38;5;241m=\u001b[39m make_fapl(driver, libver, rdcc_nslots, rdcc_nbytes, rdcc_w0,\n\u001b[1;32m    553\u001b[0m                      locking, page_buf_size, min_meta_keep, min_raw_keep,\n\u001b[1;32m    554\u001b[0m                      alignment_threshold\u001b[38;5;241m=\u001b[39malignment_threshold,\n\u001b[1;32m    555\u001b[0m                      alignment_interval\u001b[38;5;241m=\u001b[39malignment_interval,\n\u001b[1;32m    556\u001b[0m                      meta_block_size\u001b[38;5;241m=\u001b[39mmeta_block_size,\n\u001b[1;32m    557\u001b[0m                      \u001b[38;5;241m*\u001b[39m\u001b[38;5;241m*\u001b[39mkwds)\n\u001b[1;32m    558\u001b[0m     fcpl \u001b[38;5;241m=\u001b[39m make_fcpl(track_order\u001b[38;5;241m=\u001b[39mtrack_order, fs_strategy\u001b[38;5;241m=\u001b[39mfs_strategy,\n\u001b[1;32m    559\u001b[0m                      fs_persist\u001b[38;5;241m=\u001b[39mfs_persist, fs_threshold\u001b[38;5;241m=\u001b[39mfs_threshold,\n\u001b[1;32m    560\u001b[0m                      fs_page_size\u001b[38;5;241m=\u001b[39mfs_page_size)\n\u001b[0;32m--> 561\u001b[0m     fid \u001b[38;5;241m=\u001b[39m \u001b[43mmake_fid\u001b[49m\u001b[43m(\u001b[49m\u001b[43mname\u001b[49m\u001b[43m,\u001b[49m\u001b[43m \u001b[49m\u001b[43mmode\u001b[49m\u001b[43m,\u001b[49m\u001b[43m \u001b[49m\u001b[43muserblock_size\u001b[49m\u001b[43m,\u001b[49m\u001b[43m \u001b[49m\u001b[43mfapl\u001b[49m\u001b[43m,\u001b[49m\u001b[43m \u001b[49m\u001b[43mfcpl\u001b[49m\u001b[43m,\u001b[49m\u001b[43m \u001b[49m\u001b[43mswmr\u001b[49m\u001b[38;5;241;43m=\u001b[39;49m\u001b[43mswmr\u001b[49m\u001b[43m)\u001b[49m\n\u001b[1;32m    563\u001b[0m \u001b[38;5;28;01mif\u001b[39;00m \u001b[38;5;28misinstance\u001b[39m(libver, \u001b[38;5;28mtuple\u001b[39m):\n\u001b[1;32m    564\u001b[0m     \u001b[38;5;28mself\u001b[39m\u001b[38;5;241m.\u001b[39m_libver \u001b[38;5;241m=\u001b[39m libver\n",
      "File \u001b[0;32m~/myenv/lib/python3.10/site-packages/h5py/_hl/files.py:241\u001b[0m, in \u001b[0;36mmake_fid\u001b[0;34m(name, mode, userblock_size, fapl, fcpl, swmr)\u001b[0m\n\u001b[1;32m    239\u001b[0m     fid \u001b[38;5;241m=\u001b[39m h5f\u001b[38;5;241m.\u001b[39mcreate(name, h5f\u001b[38;5;241m.\u001b[39mACC_EXCL, fapl\u001b[38;5;241m=\u001b[39mfapl, fcpl\u001b[38;5;241m=\u001b[39mfcpl)\n\u001b[1;32m    240\u001b[0m \u001b[38;5;28;01melif\u001b[39;00m mode \u001b[38;5;241m==\u001b[39m \u001b[38;5;124m'\u001b[39m\u001b[38;5;124mw\u001b[39m\u001b[38;5;124m'\u001b[39m:\n\u001b[0;32m--> 241\u001b[0m     fid \u001b[38;5;241m=\u001b[39m \u001b[43mh5f\u001b[49m\u001b[38;5;241;43m.\u001b[39;49m\u001b[43mcreate\u001b[49m\u001b[43m(\u001b[49m\u001b[43mname\u001b[49m\u001b[43m,\u001b[49m\u001b[43m \u001b[49m\u001b[43mh5f\u001b[49m\u001b[38;5;241;43m.\u001b[39;49m\u001b[43mACC_TRUNC\u001b[49m\u001b[43m,\u001b[49m\u001b[43m \u001b[49m\u001b[43mfapl\u001b[49m\u001b[38;5;241;43m=\u001b[39;49m\u001b[43mfapl\u001b[49m\u001b[43m,\u001b[49m\u001b[43m \u001b[49m\u001b[43mfcpl\u001b[49m\u001b[38;5;241;43m=\u001b[39;49m\u001b[43mfcpl\u001b[49m\u001b[43m)\u001b[49m\n\u001b[1;32m    242\u001b[0m \u001b[38;5;28;01melif\u001b[39;00m mode \u001b[38;5;241m==\u001b[39m \u001b[38;5;124m'\u001b[39m\u001b[38;5;124ma\u001b[39m\u001b[38;5;124m'\u001b[39m:\n\u001b[1;32m    243\u001b[0m     \u001b[38;5;66;03m# Open in append mode (read/write).\u001b[39;00m\n\u001b[1;32m    244\u001b[0m     \u001b[38;5;66;03m# If that fails, create a new file only if it won't clobber an\u001b[39;00m\n\u001b[1;32m    245\u001b[0m     \u001b[38;5;66;03m# existing one (ACC_EXCL)\u001b[39;00m\n\u001b[1;32m    246\u001b[0m     \u001b[38;5;28;01mtry\u001b[39;00m:\n",
      "File \u001b[0;32mh5py/_objects.pyx:54\u001b[0m, in \u001b[0;36mh5py._objects.with_phil.wrapper\u001b[0;34m()\u001b[0m\n",
      "File \u001b[0;32mh5py/_objects.pyx:55\u001b[0m, in \u001b[0;36mh5py._objects.with_phil.wrapper\u001b[0;34m()\u001b[0m\n",
      "File \u001b[0;32mh5py/h5f.pyx:122\u001b[0m, in \u001b[0;36mh5py.h5f.create\u001b[0;34m()\u001b[0m\n",
      "\u001b[0;31mBlockingIOError\u001b[0m: [Errno 11] Unable to synchronously create file (unable to lock file, errno = 11, error message = 'Resource temporarily unavailable')"
     ]
    }
   ],
   "source": [
    "# Time how long these function tests take\n",
    "\n",
    "print(\"Creating trace data file...\")\n",
    "start_time = time.time()\n",
    "parsed_file_folder = '/home/afisher@novateur.com/dataReaderWriter/NovateurData/'\n",
    "#parsed_hdf5_file_path = '/home/afisher@novateur.com/dataReaderWriter/NovateurData/01150212_1819_F0001_parsed.hdf5' #'/data3/afisher/test/parsed_files/01150212_1819_F0001_parsed.hdf5'\n",
    "trace_output_file_path = '/home/afisher@novateur.com/dataReaderWriter/NovateurData/full_series_trace_test.hdf5'\n",
    "\n",
    "csv_metadata.get_series_trace_data(parsed_file_folder, trace_output_file_path, is_test=True)\n",
    "end_time = time.time()\n",
    "print(f\"Total execution time: {(end_time - start_time)/60:.2f} minutes\")\n",
    "\n",
    "print('Creating cut output file')\n",
    "start_time = time.time()\n",
    "parsed_hdf5_file_path = '/data3/afisher/test/parsed_files/01150212_1819_F0001_parsed.hdf5'\n",
    "cut_data_csv_folder = '/data3/afisher/cdmslite-run3-cuts-output/'\n",
    "cut_output_file_path = '/home/afisher@novateur.com/dataReaderWriter/NovateurData/full_series_cut_test.hdf5'\n",
    "\n",
    "csv_metadata.get_series_cut_data(cdms_ids, parsed_hdf5_file_path, cut_data_csv_folder, cut_output_file_path, is_test=True)\n",
    "end_time = time.time()\n",
    "print(f\"Cut output file created.\")\n",
    "print(f\"Execution time: {(end_time - start_time)/60:.2f} minutes\")\n"
   ]
  },
  {
   "cell_type": "code",
   "execution_count": null,
   "metadata": {},
   "outputs": [],
   "source": [
    "# Cell to test find_valid_series_events\n",
    "\n",
    "cut_data_file_path = '/data3/afisher/cdmslite-run3-cuts-output/cut_output_bg-restricted_Random_CDMSliteR3.csv'\n",
    "\n",
    "series_and_true_events, series_and_false_events = csv_metadata.find_valid_series_events(cut_data_file_path, cdms_ids, is_test=True)"
   ]
  },
  {
   "cell_type": "code",
   "execution_count": null,
   "metadata": {},
   "outputs": [],
   "source": [
    "# Cell to test get_series_full_metadata\n",
    "\n",
    "# Path valid from F0001 to F0038\n",
    "#parsed_file_folder = '/data3/afisher/test/parsed_files/'\n",
    "parsed_file_folder = '/home/afisher@novateur.com/dataReaderWriter/NovateurData/'\n",
    "#parsed_hdf5_file_path = '/home/afisher@novateur.com/dataReaderWriter/NovateurData/01150212_1819_F0001_parsed.hdf5' #'/data3/afisher/test/parsed_files/01150212_1819_F0001_parsed.hdf5'\n",
    "\n",
    "cut_data_csv_folder = '/data3/afisher/cdmslite-run3-cuts-output/'\n",
    "trace_output_file_path = '/home/afisher@novateur.com/dataReaderWriter/NovateurData/full_series_trace_test.hdf5'\n",
    "cut_output_file_path = '/home/afisher@novateur.com/dataReaderWriter/NovateurData/full_series_cut_test.hdf5'\n",
    "\n",
    "csv_metadata.get_series_full_metadata(cdms_ids, parsed_file_folder, cut_data_csv_folder, trace_output_file_path, cut_output_file_path, is_test=True)\n",
    "\n"
   ]
  },
  {
   "cell_type": "code",
   "execution_count": 2,
   "metadata": {},
   "outputs": [
    {
     "name": "stdout",
     "output_type": "stream",
     "text": [
      "Collecting trace data..\n",
      "Trace data saved.\n",
      "Collecting cut data...\n"
     ]
    }
   ],
   "source": [
    "# Cell to test get_single_event_metadata\n",
    "\n",
    "parsed_hdf5_file = '/data3/afisher/test/parsed_files/01150212_1819_F0001_parsed.hdf5'\n",
    "series_number, event_numbers = csv_metadata.get_series_and_event_numbers(parsed_hdf5_file)\n",
    "event_number = event_numbers[0]\n",
    "\n",
    "cut_data_csv_folder = '/data3/afisher/cdmslite-run3-cuts-output/'\n",
    "trace_output_file_path = '/home/afisher@novateur.com/dataReaderWriter/NovateurData/single_event_trace_test.hdf5'\n",
    "cut_output_file_path = '/home/afisher@novateur.com/dataReaderWriter/NovateurData/single_event_cut_test.hdf5'\n",
    "csv_metadata.get_single_event_metadata(cdms_ids, event_number, parsed_hdf5_file, cut_data_csv_folder, trace_output_file_path, cut_output_file_path, is_test=True)\n",
    "\n"
   ]
  },
  {
   "cell_type": "code",
   "execution_count": null,
   "metadata": {},
   "outputs": [],
   "source": []
  }
 ],
 "metadata": {
  "kernelspec": {
   "display_name": "myenv",
   "language": "python",
   "name": "python3"
  },
  "language_info": {
   "codemirror_mode": {
    "name": "ipython",
    "version": 3
   },
   "file_extension": ".py",
   "mimetype": "text/x-python",
   "name": "python",
   "nbconvert_exporter": "python",
   "pygments_lexer": "ipython3",
   "version": "3.10.12"
  }
 },
 "nbformat": 4,
 "nbformat_minor": 2
}
