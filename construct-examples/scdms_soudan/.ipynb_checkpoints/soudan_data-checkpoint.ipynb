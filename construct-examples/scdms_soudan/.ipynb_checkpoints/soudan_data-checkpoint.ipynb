{
 "cells": [
  {
   "cell_type": "code",
   "execution_count": 55,
   "metadata": {},
   "outputs": [
    {
     "name": "stdout",
     "output_type": "stream",
     "text": [
      "{'file_hdr': {'endian_indicator': '16909060'}, 'detector_hdr': {'header_number': '65537', 'config_record_len': '8640', 'repeat_value': '180', 'hdrs': 'ListContainer:', 'charge_config': 'None'}}\n"
     ]
    }
   ],
   "source": [
    "import os\n",
    "import pandas as pd\n",
    "import numpy as np\n",
    "import re\n",
    "\n",
    "file_path = \"01120210_0727_F0114_parsed.txt\"\n",
    "\n",
    "def load_parsed_data(file_path):\n",
    "    with open(file_path, 'r') as file:\n",
    "        content = file.readlines()\n",
    "        \n",
    "    parsed_data = {\n",
    "        'file_hdr': {},\n",
    "        'detector_hdr': {}\n",
    "    }\n",
    "    current_key = None\n",
    "    \n",
    "    # Regular expressions to match lines\n",
    "    container_pattern = re.compile(r'^\\s*(\\S+)\\s*=\\s*Container:')\n",
    "    array_pattern = re.compile(r'^\\ {1,}(\\S+)\\s(?:= ListContainer:)')\n",
    "    key_value_pattern = re.compile(r'^\\s*(\\S+)\\s*=\\s*(.*)')\n",
    "    \n",
    "    header_list = []\n",
    "    array_list  = []\n",
    "    \n",
    "    for line in content:\n",
    "        line = line.strip()\n",
    "        \n",
    "        container_match = container_pattern.search(line)\n",
    "        if container_match:\n",
    "            current_key = container_match.group(1)\n",
    "            continue\n",
    "            \n",
    "        key_value_match = key_value_pattern.search(line)\n",
    "        if key_value_match:\n",
    "            key = key_value_match.group(1)\n",
    "            value = key_value_match.group(2)\n",
    "            \n",
    "            if current_key == \"file_hdr\":\n",
    "                parsed_data[\"file_hdr\"][key] = value\n",
    "            elif current_key == \"detector_hdr\":\n",
    "                parsed_data[\"detector_hdr\"][key] = value\n",
    "            \n",
    "        array_match = array_pattern.search(line)\n",
    "        if array_match:\n",
    "            array_list.append(line)\n",
    "        \n",
    "    return parsed_data\n",
    "    \n",
    "parsed_data = load_parsed_data(file_path)\n",
    "print(parsed_data)\n",
    "#print(array_list)"
   ]
  },
  {
   "cell_type": "code",
   "execution_count": null,
   "metadata": {},
   "outputs": [],
   "source": []
  }
 ],
 "metadata": {
  "kernelspec": {
   "display_name": "Python 3",
   "language": "python",
   "name": "python3"
  },
  "language_info": {
   "codemirror_mode": {
    "name": "ipython",
    "version": 3
   },
   "file_extension": ".py",
   "mimetype": "text/x-python",
   "name": "python",
   "nbconvert_exporter": "python",
   "pygments_lexer": "ipython3",
   "version": "3.7.3"
  }
 },
 "nbformat": 4,
 "nbformat_minor": 2
}
