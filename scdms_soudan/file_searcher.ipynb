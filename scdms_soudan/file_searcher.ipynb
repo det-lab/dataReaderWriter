{
 "cells": [
  {
   "cell_type": "code",
   "execution_count": 1,
   "metadata": {},
   "outputs": [],
   "source": [
    "import h5py\n",
    "\n",
    "def print_structure(name, obj):\n",
    "    if isinstance(obj, h5py.Group):\n",
    "        print(f'Group: {name}')\n",
    "    elif isinstance(obj, h5py.Dataset):\n",
    "        print(f\"Dataset: {name}, Shape: {obj.shape}, Data type: {obj.dtype}\")\n",
    "        # Print the dataset values (for small datasets)\n",
    "        data = obj[()]\n",
    "        print(f\"Values: {data}\")\n",
    "\n",
    "def explore_hdf5_file(file_path):\n",
    "    # Open the HDF5 file in read mode\n",
    "    with h5py.File(file_path, 'r') as f:\n",
    "        \n",
    "        # Use the visititems method to walk through the file\n",
    "        f.visititems(print_structure)"
   ]
  },
  {
   "cell_type": "code",
   "execution_count": 4,
   "metadata": {},
   "outputs": [
    {
     "ename": "RuntimeError",
     "evalue": "Object visitation failed (addr overflow, addr = 4389317344, size = 704, eoa = 2048)",
     "output_type": "error",
     "traceback": [
      "\u001b[0;31m---------------------------------------------------------------------------\u001b[0m",
      "\u001b[0;31mRuntimeError\u001b[0m                              Traceback (most recent call last)",
      "Cell \u001b[0;32mIn[4], line 3\u001b[0m\n\u001b[1;32m      1\u001b[0m \u001b[38;5;66;03m#explore_hdf5_file('parsed.hdf5')\u001b[39;00m\n\u001b[1;32m      2\u001b[0m \u001b[38;5;66;03m#explore_hdf5_file('/data3/afisher/test/parsed_file.hdf5')\u001b[39;00m\n\u001b[0;32m----> 3\u001b[0m \u001b[43mexplore_hdf5_file\u001b[49m\u001b[43m(\u001b[49m\u001b[38;5;124;43m'\u001b[39;49m\u001b[38;5;124;43m/data3/afisher/soudan_output/metadata.hdf5\u001b[39;49m\u001b[38;5;124;43m'\u001b[39;49m\u001b[43m)\u001b[49m\n\u001b[1;32m      4\u001b[0m \u001b[38;5;66;03m#explore_hdf5_file('/home/afisher@novateur.com/dataReaderWriter/scdms_soudan/parsed.hdf5')\u001b[39;00m\n\u001b[1;32m      5\u001b[0m \u001b[38;5;66;03m#explore_hdf5_file('/home/afisher@novateur.com/dataReaderWriter/scdms_soudan/event_test.hdf5')\u001b[39;00m\n\u001b[1;32m      6\u001b[0m \u001b[38;5;66;03m#explore_hdf5_file('/home/afisher@novateur.com/dataReaderWriter/scdms_soudan/trace_test.hdf5')\u001b[39;00m\n\u001b[1;32m      7\u001b[0m \u001b[38;5;66;03m#explore_hdf5_file('/home/afisher@novateur.com/dataReaderWriter/scdms_soudan/small_test.hdf5')\u001b[39;00m\n",
      "Cell \u001b[0;32mIn[1], line 17\u001b[0m, in \u001b[0;36mexplore_hdf5_file\u001b[0;34m(file_path)\u001b[0m\n\u001b[1;32m     12\u001b[0m \u001b[38;5;28;01mdef\u001b[39;00m \u001b[38;5;21mexplore_hdf5_file\u001b[39m(file_path):\n\u001b[1;32m     13\u001b[0m     \u001b[38;5;66;03m# Open the HDF5 file in read mode\u001b[39;00m\n\u001b[1;32m     14\u001b[0m     \u001b[38;5;28;01mwith\u001b[39;00m h5py\u001b[38;5;241m.\u001b[39mFile(file_path, \u001b[38;5;124m'\u001b[39m\u001b[38;5;124mr\u001b[39m\u001b[38;5;124m'\u001b[39m) \u001b[38;5;28;01mas\u001b[39;00m f:\n\u001b[1;32m     15\u001b[0m         \n\u001b[1;32m     16\u001b[0m         \u001b[38;5;66;03m# Use the visititems method to walk through the file\u001b[39;00m\n\u001b[0;32m---> 17\u001b[0m         \u001b[43mf\u001b[49m\u001b[38;5;241;43m.\u001b[39;49m\u001b[43mvisititems\u001b[49m\u001b[43m(\u001b[49m\u001b[43mprint_structure\u001b[49m\u001b[43m)\u001b[49m\n",
      "File \u001b[0;32m~/.local/lib/python3.10/site-packages/h5py/_hl/group.py:674\u001b[0m, in \u001b[0;36mGroup.visititems\u001b[0;34m(self, func)\u001b[0m\n\u001b[1;32m    672\u001b[0m     name \u001b[38;5;241m=\u001b[39m \u001b[38;5;28mself\u001b[39m\u001b[38;5;241m.\u001b[39m_d(name)\n\u001b[1;32m    673\u001b[0m     \u001b[38;5;28;01mreturn\u001b[39;00m func(name, \u001b[38;5;28mself\u001b[39m[name])\n\u001b[0;32m--> 674\u001b[0m \u001b[38;5;28;01mreturn\u001b[39;00m \u001b[43mh5o\u001b[49m\u001b[38;5;241;43m.\u001b[39;49m\u001b[43mvisit\u001b[49m\u001b[43m(\u001b[49m\u001b[38;5;28;43mself\u001b[39;49m\u001b[38;5;241;43m.\u001b[39;49m\u001b[43mid\u001b[49m\u001b[43m,\u001b[49m\u001b[43m \u001b[49m\u001b[43mproxy\u001b[49m\u001b[43m)\u001b[49m\n",
      "File \u001b[0;32mh5py/_objects.pyx:54\u001b[0m, in \u001b[0;36mh5py._objects.with_phil.wrapper\u001b[0;34m()\u001b[0m\n",
      "File \u001b[0;32mh5py/_objects.pyx:55\u001b[0m, in \u001b[0;36mh5py._objects.with_phil.wrapper\u001b[0;34m()\u001b[0m\n",
      "File \u001b[0;32mh5py/h5o.pyx:406\u001b[0m, in \u001b[0;36mh5py.h5o.visit\u001b[0;34m()\u001b[0m\n",
      "\u001b[0;31mRuntimeError\u001b[0m: Object visitation failed (addr overflow, addr = 4389317344, size = 704, eoa = 2048)"
     ]
    }
   ],
   "source": [
    "#explore_hdf5_file('parsed.hdf5')\n",
    "#explore_hdf5_file('/data3/afisher/test/parsed_file.hdf5')\n",
    "explore_hdf5_file('/data3/afisher/soudan_output/metadata.hdf5')\n",
    "#explore_hdf5_file('/home/afisher@novateur.com/dataReaderWriter/scdms_soudan/parsed.hdf5')\n",
    "#explore_hdf5_file('/home/afisher@novateur.com/dataReaderWriter/scdms_soudan/event_test.hdf5')\n",
    "#explore_hdf5_file('/home/afisher@novateur.com/dataReaderWriter/scdms_soudan/trace_test.hdf5')\n",
    "#explore_hdf5_file('/home/afisher@novateur.com/dataReaderWriter/scdms_soudan/small_test.hdf5')"
   ]
  },
  {
   "cell_type": "code",
   "execution_count": null,
   "metadata": {},
   "outputs": [],
   "source": []
  }
 ],
 "metadata": {
  "kernelspec": {
   "display_name": "Python 3",
   "language": "python",
   "name": "python3"
  },
  "language_info": {
   "codemirror_mode": {
    "name": "ipython",
    "version": 3
   },
   "file_extension": ".py",
   "mimetype": "text/x-python",
   "name": "python",
   "nbconvert_exporter": "python",
   "pygments_lexer": "ipython3",
   "version": "3.10.12"
  }
 },
 "nbformat": 4,
 "nbformat_minor": 2
}
