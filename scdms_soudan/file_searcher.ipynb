{
 "cells": [
  {
   "cell_type": "code",
   "execution_count": 4,
   "metadata": {},
   "outputs": [
    {
     "name": "stdout",
     "output_type": "stream",
     "text": [
      "Group: file_hdr\n",
      "Dataset: file_hdr/daq_major, Shape: (), Data type: int64\n",
      "Values: 0\n",
      "Dataset: file_hdr/daq_minor, Shape: (), Data type: int64\n",
      "Values: 3\n",
      "Dataset: file_hdr/data_format_major, Shape: (), Data type: int64\n",
      "Values: 1\n",
      "Group: pulse_data\n",
      "Dataset: pulse_data/traces, Shape: (1, 2048), Data type: int64\n",
      "Values: [[2360 2360 2361 ... 2356 2359 2357]]\n",
      "\n",
      "Data in 'file_hdr/daq_major': 0\n"
     ]
    }
   ],
   "source": [
    "import h5py\n",
    "\n",
    "def explore_hdf5_file(file_path):\n",
    "    # Open the HDF5 file in read mode\n",
    "    with h5py.File(file_path, 'r') as f:\n",
    "        # Recursively print the structure of the HDF5 file\n",
    "        def print_structure(name, obj):\n",
    "            if isinstance(obj, h5py.Group):\n",
    "                print(f\"Group: {name}\")\n",
    "            elif isinstance(obj, h5py.Dataset):\n",
    "                print(f\"Dataset: {name}, Shape: {obj.shape}, Data type: {obj.dtype}\")\n",
    "                # Print the dataset values (for small datasets)\n",
    "                data = obj[()]\n",
    "                print(f\"Values: {data}\")\n",
    "\n",
    "        # Use the visititems method to walk through the file\n",
    "        f.visititems(print_structure)\n",
    "        \n",
    "        # Access specific datasets by name if known\n",
    "        if 'file_hdr/daq_major' in f:\n",
    "            daq_major = f['file_hdr/daq_major'][()]\n",
    "            print(f\"\\nData in 'file_hdr/daq_major': {daq_major}\")\n",
    "        \n",
    "        if 'detector_config_header/repeat_value' in f:\n",
    "            repeat_value = f['detector_config_header/repeat_value'][()]\n",
    "            print(f\"\\nData in 'detector_config_header/repeat_value': {repeat_value}\")\n",
    "\n",
    "# Example usage\n",
    "explore_hdf5_file('parsedh5.hdf5')\n"
   ]
  },
  {
   "cell_type": "code",
   "execution_count": null,
   "metadata": {},
   "outputs": [],
   "source": []
  }
 ],
 "metadata": {
  "kernelspec": {
   "display_name": "Python 3",
   "language": "python",
   "name": "python3"
  },
  "language_info": {
   "codemirror_mode": {
    "name": "ipython",
    "version": 3
   },
   "file_extension": ".py",
   "mimetype": "text/x-python",
   "name": "python",
   "nbconvert_exporter": "python",
   "pygments_lexer": "ipython3",
   "version": "3.10.12"
  }
 },
 "nbformat": 4,
 "nbformat_minor": 2
}
