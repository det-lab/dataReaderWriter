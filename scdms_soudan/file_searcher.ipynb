{
 "cells": [
  {
   "cell_type": "code",
   "execution_count": 1,
   "metadata": {},
   "outputs": [],
   "source": [
    "import h5py\n",
    "\n",
    "def print_structure(name, obj):\n",
    "    if isinstance(obj, h5py.Group):\n",
    "        print(f'Group: {name}')\n",
    "    elif isinstance(obj, h5py.Dataset):\n",
    "        print(f\"Dataset: {name}, Shape: {obj.shape}, Data type: {obj.dtype}\")\n",
    "        # Print the dataset values (for small datasets)\n",
    "        data = obj[()]\n",
    "        print(f\"Values: {data}\")\n",
    "\n",
    "def explore_hdf5_file(file_path):\n",
    "    # Open the HDF5 file in read mode\n",
    "    with h5py.File(file_path, 'r') as f:\n",
    "        \n",
    "        # Use the visititems method to walk through the file\n",
    "        f.visititems(print_structure)"
   ]
  },
  {
   "cell_type": "code",
   "execution_count": 4,
   "metadata": {},
   "outputs": [],
   "source": [
    "#explore_hdf5_file('/data3/afisher/test/parsed_file.hdf5')\n",
    "#explore_hdf5_file('/home/afisher@novateur.com/dataReaderWriter/NovateurData/metadata_small.hdf5')\n",
    "\n",
    "#explore_hdf5_file('/home/afisher@novateur.com/dataReaderWriter/NovateurData/get_trace_data_test.hdf5')\n",
    "#explore_hdf5_file('/home/afisher@novateur.com/dataReaderWriter/NovateurData/get_cut_data_test.hdf5')\n",
    "\n",
    "#explore_hdf5_file('/home/afisher@novateur.com/dataReaderWriter/NovateurData/collect_series_trace_test.hdf5')\n",
    "#explore_hdf5_file('/home/afisher@novateur.com/dataReaderWriter/NovateurData/collect_series_cut_test.hdf5')\n",
    "\n",
    "#explore_hdf5_file('/home/afisher@novateur.com/dataReaderWriter/scdms_soudan/parsed.hdf5')"
   ]
  },
  {
   "cell_type": "code",
   "execution_count": null,
   "metadata": {},
   "outputs": [],
   "source": []
  }
 ],
 "metadata": {
  "kernelspec": {
   "display_name": "usr",
   "language": "python",
   "name": "python3"
  },
  "language_info": {
   "codemirror_mode": {
    "name": "ipython",
    "version": 3
   },
   "file_extension": ".py",
   "mimetype": "text/x-python",
   "name": "python",
   "nbconvert_exporter": "python",
   "pygments_lexer": "ipython3",
   "version": "3.10.12"
  }
 },
 "nbformat": 4,
 "nbformat_minor": 2
}
