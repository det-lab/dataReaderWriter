{
 "cells": [
  {
   "cell_type": "code",
   "execution_count": 59,
   "metadata": {},
   "outputs": [],
   "source": [
    "import h5py\n",
    "import pandas as pd\n",
    "from collections import Counter\n",
    "import os\n",
    "import re\n",
    "\n",
    "directory = '/data3/afisher/cdmslite-run3-cuts-output/'\n",
    "file_names = []\n",
    "\n",
    "\n",
    "for file in os.listdir(directory):\n",
    "    if os.path.isfile(os.path.join(directory, file)):\n",
    "        file_names.append(file)\n",
    "\n",
    "def create_metadata(output_path):\n",
    "    with h5py.File(output_path, 'w') as f:\n",
    "        short_names = []\n",
    "\n",
    "        # pattern fits files like: cut_output_bg-restricted_IsGlitch_chisq_CDMSliteR3.csv\n",
    "        pattern = r'(?:(cut_output_bg-|out_bg-))(?:restricted_)(.*?)(?:_CDMSliteR3.csv)'\n",
    "\n",
    "        # allCuts_pattern fits files like: out_bg-restricted_allCutsOld_inclPmult.csv\n",
    "        allCuts_pattern = r'(?:.*?-restricted_)(.*?)(?:\\.csv)'\n",
    "\n",
    "        # Together, they capture all files besides the README\n",
    "\n",
    "        id_path = directory+'ID_CDMSliteR3.csv'\n",
    "        cdms_ids = pd.read_csv(id_path)\n",
    "\n",
    "\n",
    "        for file in file_names:\n",
    "            if file in ['ID_CDMSliteR3.csv', 'README.md']:\n",
    "                continue\n",
    "            match = re.search(pattern, file)\n",
    "            allCuts_match = re.search(allCuts_pattern, file)\n",
    "            # Fill list with names to create easy to read group names\n",
    "            if match:\n",
    "                name = match.group(1) + match.group(2)\n",
    "\n",
    "            elif allCuts_match:\n",
    "                name = allCuts_match.group(1)\n",
    "            \n",
    "            short_names.append(name)\n",
    "\n",
    "            # Create group for each cut file\n",
    "            cut_group = f.create_group(name)\n",
    "\n",
    "            # Load cut_data\n",
    "            cut_data = pd.read_csv(directory+file)\n",
    "            \n",
    "            # Fill group with series numbers\n",
    "\n",
    "            \n",
    "\n",
    "\n",
    "#output_path = '/data3/afisher/soudan_output/metadata.hdf5'\n",
    "output_path = 'metadata.hdf5'\n",
    "\n",
    "create_metadata(output_path)"
   ]
  },
  {
   "cell_type": "code",
   "execution_count": null,
   "metadata": {},
   "outputs": [],
   "source": []
  }
 ],
 "metadata": {
  "kernelspec": {
   "display_name": "Python 3",
   "language": "python",
   "name": "python3"
  },
  "language_info": {
   "codemirror_mode": {
    "name": "ipython",
    "version": 3
   },
   "file_extension": ".py",
   "mimetype": "text/x-python",
   "name": "python",
   "nbconvert_exporter": "python",
   "pygments_lexer": "ipython3",
   "version": "3.10.12"
  }
 },
 "nbformat": 4,
 "nbformat_minor": 2
}
