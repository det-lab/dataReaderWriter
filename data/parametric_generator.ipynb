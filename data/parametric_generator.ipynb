{
 "cells": [
  {
   "cell_type": "code",
   "execution_count": 2,
   "metadata": {},
   "outputs": [],
   "source": [
    "import struct\n",
    "\n",
    "def generate_pairs(key_size, num_pairs):\n",
    "    data = bytearray()\n",
    "    for i in range(num_pairs):\n",
    "        key = f\"key{i}\".ljust(key_size, '\\x00').encode('ascii')[:key_size]\n",
    "        value = f\"value{i}\".encode('ascii') + b'\\x00' # b'\\x00' creates a signed integer \"0\"\n",
    "        data.extend(key)\n",
    "        data.extend(value)\n",
    "        \n",
    "    return data\n",
    "\n",
    "num_pairs = 0x100 #256\n",
    "\n",
    "short_pairs_data = generate_pairs(3, num_pairs)\n",
    "\n",
    "long_pairs_data = generate_pairs(8, num_pairs)\n",
    "\n",
    "all_data = short_pairs_data + long_pairs_data\n",
    "\n",
    "#print(all_data)\n",
    "\n",
    "with open('kv_pairs_data.bin', 'wb') as f:\n",
    "    f.write(all_data)"
   ]
  },
  {
   "cell_type": "code",
   "execution_count": null,
   "metadata": {},
   "outputs": [],
   "source": []
  }
 ],
 "metadata": {
  "kernelspec": {
   "display_name": "Python 3",
   "language": "python",
   "name": "python3"
  },
  "language_info": {
   "codemirror_mode": {
    "name": "ipython",
    "version": 3
   },
   "file_extension": ".py",
   "mimetype": "text/x-python",
   "name": "python",
   "nbconvert_exporter": "python",
   "pygments_lexer": "ipython3",
   "version": "3.7.3"
  }
 },
 "nbformat": 4,
 "nbformat_minor": 2
}
