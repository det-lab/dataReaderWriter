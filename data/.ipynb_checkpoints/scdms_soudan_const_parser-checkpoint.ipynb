{
 "cells": [
  {
   "cell_type": "code",
   "execution_count": 1,
   "metadata": {},
   "outputs": [
    {
     "ename": "ModuleNotFoundError",
     "evalue": "No module named 'construct'",
     "output_type": "error",
     "traceback": [
      "\u001b[1;31m---------------------------------------------------------------------------\u001b[0m",
      "\u001b[1;31mModuleNotFoundError\u001b[0m                       Traceback (most recent call last)",
      "\u001b[1;32m<ipython-input-1-a14250e6b03e>\u001b[0m in \u001b[0;36m<module>\u001b[1;34m\u001b[0m\n\u001b[1;32m----> 1\u001b[1;33m \u001b[1;32mfrom\u001b[0m \u001b[0mconstruct\u001b[0m \u001b[1;32mimport\u001b[0m \u001b[0mStruct\u001b[0m\u001b[1;33m,\u001b[0m \u001b[0mInt32ul\u001b[0m\u001b[1;33m,\u001b[0m \u001b[0mFloat64l\u001b[0m\u001b[1;33m,\u001b[0m \u001b[0mPaddedString\u001b[0m\u001b[1;33m,\u001b[0m \u001b[0mArray\u001b[0m\u001b[1;33m,\u001b[0m \u001b[0mthis\u001b[0m\u001b[1;33m,\u001b[0m \u001b[0mComputed\u001b[0m\u001b[1;33m\u001b[0m\u001b[1;33m\u001b[0m\u001b[0m\n\u001b[0m\u001b[0;32m      2\u001b[0m \u001b[1;33m\u001b[0m\u001b[0m\n\u001b[0;32m      3\u001b[0m two_word_file_header(\n\u001b[0;32m      4\u001b[0m     \u001b[1;34m\"endian_indicator\"\u001b[0m \u001b[1;33m/\u001b[0m \u001b[0mInt32ul\u001b[0m\u001b[1;33m,\u001b[0m\u001b[1;33m\u001b[0m\u001b[1;33m\u001b[0m\u001b[0m\n\u001b[0;32m      5\u001b[0m     \u001b[1;34m\"data_format\"\u001b[0m \u001b[1;33m/\u001b[0m \u001b[0mInt32ul\u001b[0m\u001b[1;33m\u001b[0m\u001b[1;33m\u001b[0m\u001b[0m\n",
      "\u001b[1;31mModuleNotFoundError\u001b[0m: No module named 'construct'"
     ]
    }
   ],
   "source": [
    "from construct import Struct, Int32ul, Float64l, PaddedString, Array, this, Computed\n",
    "\n",
    "two_word_file_header(\n",
    "    \"endian_indicator\" / Int32ul,\n",
    "    \"data_format\" / Int32ul\n",
    ")\n",
    "\n",
    "detector_config_header = Struct(\n",
    "    \"header_number\" / Int32ul,\n",
    "    \"config_record_len\" / Int32ul,\n",
    "    \"repeat_value\" / Computed(\n",
    "        lambda this: (this.config_record_len // 72) + (this.config_record_len // 144)\n",
    "    )\n",
    "\n",
    ")"
   ]
  },
  {
   "cell_type": "code",
   "execution_count": null,
   "metadata": {},
   "outputs": [],
   "source": []
  }
 ],
 "metadata": {
  "kernelspec": {
   "display_name": "Python 3",
   "language": "python",
   "name": "python3"
  },
  "language_info": {
   "codemirror_mode": {
    "name": "ipython",
    "version": 3
   },
   "file_extension": ".py",
   "mimetype": "text/x-python",
   "name": "python",
   "nbconvert_exporter": "python",
   "pygments_lexer": "ipython3",
   "version": "3.7.3"
  }
 },
 "nbformat": 4,
 "nbformat_minor": 2
}
